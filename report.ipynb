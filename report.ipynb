{
 "cells": [
  {
   "cell_type": "markdown",
   "metadata": {},
   "source": [
    "# RAZISKOVANJE DRUŽBENIH DINAMIK V ZDA: VPLIV LEGALIZACIJE KONOPLJE NA STOPNJO SOCIALNE DEPRIVACIJE\n",
    "\n",
    "***Osnovna navodila***\n",
    "*Za zaključen del seminarske naloge je ključna mapa \"podatki\", v kateri so zbrani vsi podatki o brezdomstvu, brezposelnosti, kriminalu, legalizaciji in zveznih državah. Do mape lahko dostopate na tej povezavi: https://github.com/vali11111/PR24-MVC/tree/main/podatki.\n",
    "Vizualizacija, podrobnejša analiza ter opis vseh podatkov se nahajajo v datoteki \"končna_analiza_podatkov\". Do te datoteke lahko dostopate na tej povezavi: http://localhost:8888/notebooks/kon%C4%8Dna_analiza_podatkov.ipynb*\n",
    "\n",
    "*Ker IPython widgets, ki jih uporabljamo, niso vidni na GitHubu, smo pripravili še mybinder datoteko, ki omogoča pravilno prikazovanje teh widgetov. Do mybinder datoteke lahko dostopate tukaj: _____________*\n",
    "\n",
    "## 1. OPIS PROBLEMA IN CILJEV\n",
    "Legalizacija konoplje v ZDA je sprožila številne družbene razprave o vplivu na socialno deprivacijo. Seminarska naloga raziskuje ta vpliv na brezdomstvo, kriminalnost in brezposelnost ter se osredotoča na različne ravni legalizacije. Zbiranje podatkov zajema število brezdomcev, brezposelnih in informacije o kriminalu po zveznih državah ter stopnjo legalizacije. Cilj raziskave je razumeti kompleksne družbene učinke legalizacije konoplje in njihov vpliv na stopnjo socialne deprivacije, kar je ključno za oblikovanje bolj pravičnih politik in ukrepov za vključujočo družbo.\n",
    "\n",
    "## 2. ANALIZA PODATKOV\n",
    "### 2.1 KATEGORIJA LEGALIZACIJE KONOPLJE PO ZVEZNIH DRŽAVAH\n",
    "Podatki iz MJBizDaily prikazujejo spremembe legalizacije marihuane v ZDA od leta 1996 do danes, razvrščene v kategorije: v celoti legalizirane, rekreacijsko legalizirane, medicinsko legalizirane in nelegalizirane.\n",
    "Kalifornija je leta 1996 prva legalizirala medicinsko uporabo konoplje. Do leta 1998 so sledile Alaska, Nevada, Oregon in Washington. Danes, v letu 2024, je stanje naslednje:\n",
    "- **10 držav nima legalizirane konoplje:** Idaho, Indiana, Kansas, Nebraska, North Carolina, South Carolina, Tennessee, Texas, Wisconsin, Wyoming.\n",
    "- **15 držav ima legalizirano samo medicinsko uporabo:** Hawaii, New Hampshire, Georgia, Louisiana, Arkansas, Florida, North Dakota, Pennsylvania, Iowa, West Virginia, Oklahoma, Utah, Mississippi, South Dakota, Alabama, Kentucky.\n",
    "- **0 držav ima legalizirano samo rekreacijsko uporabo.**\n",
    "- **24 držav ima v celoti legalizirano konopljo:** California, Alaska, Nevada, Oregon, Washington, Maine, Colorado, Montana, Vermont, Rhode Island, New Mexico, Michigan, Arizona, New Jersey, Delaware, Connecticut, Massachusetts, Illinois, Maryland, Minnesota, New York, Ohio, Missouri, Virgi\n",
    "nia.\n",
    "\n",
    "Na podlagi teh podatkov vidimo širjenje liberalnih zakonov o uporabi konoplje v ZDA, saj vedno več držav sprejema zakonodajo, ki omogoča medicinsko ali popolno legalizacijo konoplje. To odraža spreminjajoča se družbena in politična stališča ter naraščajočo podporo za regulacijo in nadzorovano uporabo konoplje.\n"
   ]
  },
  {
   "cell_type": "markdown",
   "metadata": {},
   "source": [
    "<div>\r\n",
    "    <img src=\"images/legalization_map_1996.png\" style=\"width:45%; height:auto; display:inline; margin:1%;\">\r\n",
    "    <img src=\"images/legalization_map_2024.png\" style=\"width:45%; height:auto; display:inline; margin:1%;\">\r\n",
    "</dv>\r\n",
    "iv>\r\n"
   ]
  },
  {
   "cell_type": "markdown",
   "metadata": {},
   "source": [
    " ### 2.2 VPLIV STOPNJE LEGALIZACIJE KONOPLJE NA DEJAVNIKE SOCIALNE DEPRIVACIJE\n",
    "Analizo dejavnikov socialne deprivacije smo izvedli s pomočjo grafov:\n",
    "1. Grafi za vse zvezne države skozi leta:\n",
    "   - Graf, ki prikazuje za vsako leto stopnjo izbranega dejavnika socialne deprivacije (brezdomstvo, brezposelnost in kriminal) v vseh zveznih državah. Ti grafi pa za analizo niso najbolj primerni, zaradi velikega števila grafov. Te grafe smo uporabili za izbor petih najbolj raznolikih držav.\n",
    "\n",
    "2. Grafi za posamezne zvezne države:\n",
    "   - Grafi, ki prikazujejo posamezne zvezne države skozi leta in kategorijo legalizacije (ti so prikazani z Ipython widgets).\n",
    "   Za podrobno analizo smo se osredotočili na 5 zveznih držav:\n",
    "   - California (Marihuana legalizirana čez celotno časovno obdobje)\n",
    "   - Hawaii (Marihuana legalizirana_med čez celotno časovno obdobje)\n",
    "   - Florida (Marihuana ni_legalizirana, postane legalizirana_med čez časovno obdobje)\n",
    "   - New York (Marihuana ni_legalizirana, postane legalizirana čez časovno obdobje)\n",
    "   - Texas (Marihuana ni_legalizirana čez celotno časovno obdobje)\n",
    "\n",
    "3. Graf za vse zvezne države:\n",
    "   - Graf, ki prikazuje stopnjo izbranega dejavnika socialne deprivacije (brezdomstvo, brezposelnost in kriminal) glede na kategorije legalizacije za vse države skozi leta.\n"
   ]
  },
  {
   "cell_type": "markdown",
   "metadata": {},
   "source": [
    "\n",
    " \n",
    "  #### 2.2.1 MEDSEBOJNI VPLIV BREZDOMSTVA IN BREZPOSELNOSTI\n",
    "Brezdomstvo in brezposelnost sta med seboj zmerno do močno pozitivno povezana, kar kaže korelacijski koeficient 0,55. Ta zveza nakazuje, da se ob povečanju brezposelnosti običajno poveča tudi stopnja brezdomstva, in obratno. Čeprav korelacija ne dokazuje direktnega vzročnega odnosa, je mogoče, da brezposelnost prispeva k brezdomstvu, saj lahko pomanjkanje rednega dohodka otežuje plačevanje najemnin ali hipotek. To pomeni, da bi lahko izguba zaposlitve privedla do izgube doma. Zato je ključno, da se razume in naslavlja ta kompleksen odnos med brezdomstvom in brezposelnostjo. Pomembno je razvijati celovite strategije, ki lahko hkrati obravnavajo oba problema, saj bi zmanjšanje enega lahko prispevalo k zmanjšanju drugega, kar bi izboljšalo stanje socialne varnosti in blaginje družbe.\n",
    "  ![Brezposelnst in kriminal](images/brezdomstvo_brezposelnost.png)\n",
    "  #### 2.2.2 MEDSEBOJNI VPLIV BREZDOMSTVA IN KRIMINALA\n",
    "Brezdomstvo in kriminal sta tesno povezana, kar kaže izjemno visok korelacijski koeficient 0,94. Vsaka sprememba v stopnji brezdomstva se skoraj vedno odraža v stopnji kriminala. Čeprav korelacija ne dokazuje nujno vzročnega odnosa, visoka povezava nakazuje, da se spremembe v enem pojavu pogosto sovpadejo s spremembami v drugem. Ta močna povezava pogosto odraža širše družbene probleme, kot so revščina, stanovanjska stiska, nezaposlenost in pomanjkanje socialne podpore. Zato za reševanje teh družbenih izzivov potrebujemo celovit pristop, ki bo naslovil večplastne vzroke in posledice brezdomstva ter kriminala.\n",
    "  ![Brezdomstvo in kriminal](images/brezdomstvo-kriminal.png)\n",
    "  \n",
    "  #### 2.1.3 MEDSEBOJNI VPLIV BREZPOSELNOSTI IN KRIMINALA\n",
    "Korelacijski koeficient 0,43 med brezposelnostjo in kriminalom kaže na zmerno pozitivno povezavo med tema pojavoma. Čeprav spremembe v stopnji brezposelnosti vplivajo na stopnjo kriminala, ta povezava ni tako izrazito močna kot v primeru brezdomstva in kriminala. Zmerna korelacija lahko nakazuje, da brezposelnost lahko prispeva k povečanju kriminala, vendar niso vsi brezposelni posamezniki nujno nagnjeni k kriminalnim dejavnostim. Brezposelnost lahko pripelje do finančnih stisk in socialne izključenosti, kar nekatere posameznike potisne k kriminalnim dejanjem kot sredstvu preživetja.\n",
    "  ![Brezposelnst in kriminal](images/brezposelnost_kriminal.png)\n"
   ]
  },
  {
   "cell_type": "markdown",
   "metadata": {},
   "source": [
    "  #### 2.2.1 VPLIV STOPNJE LEGALIZACIJE KONOPLJE NA BREZDOMSTVO\n",
    "**Analiza petih zveznih držav** ..........................................\n",
    "\n",
    "<div>\n",
    "    <img src=\"images/homeless_NY.png\" style=\"width:45%; height:auto; display:inline; margin:1%;\">\n",
    "    <img src=\"images/homeless_Florida.png\" style=\"width:45%; height:auto; display:inline; margin:1%;\">\n",
    "</div>\n"
   ]
  },
  {
   "cell_type": "markdown",
   "metadata": {},
   "source": [
    "**Splošni trendi** pa glede kategorij legalizacije in stopnje brezdomstva v vseh zveznih državah nakazujejo zmanjševanje odstotka brezdomnih oseb v kategoriji \"legalizirana\". Kljub temu je prišlo do nenadnega povečanja v letu 2022, kar kaže na morebitno spremembo trenda. Najnižja stopnja brezdomstva je bila dosežena leta 2021, in sicer 0,15%. V kategoriji \"legalizirana_med\" se je odstotek brezdomnih oseb izrazito zmanjšal po letu 2012, kar bi lahko povezali z izboljšanimi pogoji zaradi medicinske legalizacije marihuane. Najvišji odstotek brezdomnih oseb je bil opazen leta 2007 (0,46%), medtem ko je bil najnižji dosežen leta 2021 (0,06%). Kategorija \"ni_legalizirana\" pa je pokazala najbolj nestabilen trend. Opazen je bil največji porast med letoma 2011 in 2012, nato pa se je stopnja zmanjšala in stabilizirala na nižjih ravneh. Najnižja stopnja brezdomstva v tej kategoriji je bila dosežena leta 2021 (0,07%). \n",
    "\n",
    "  ![Brezdomstvo in legalizacija](images/homeless_category_all.png)\n",
    "\n",
    "**Če vse skupaj povzamemo** _____________________________________________--."
   ]
  },
  {
   "cell_type": "markdown",
   "metadata": {},
   "source": [
    "  #### 2.2.1 VPLIV STOPNJE LEGALIZACIJE KONOPLJE NA BREZPOSELNOST\n",
    "**Analiza stopnje brezposelnosti v petih zveznih državah** od leta 2017 do 2022 je pokazala zanimive trende in odzive na različne dejavnike, vključno s pandemijo COVID-19 in statusom legalizacije konoplje. California, ki je imela stopnje brezposelnosti pred pandemijo v letih 2017-2019 relativno stabilne in nizke, je leta 2020 doživela dramatičen skok na 10,1%, kar je bilo predvsem posledica gospodarskih posledic pandemije. Po pandemičnem letu 2020 se je stopnja brezposelnosti v Kaliforniji ponovno znižala. Podobno kot Kalifornija je tudi Hawaii pred pandemijo imela stabilno nizko stopnjo brezposelnosti, vendar je leta 2020 doživela izjemno povečanje na 11,7%. V naslednjih letih se je stopnja brezposelnosti v Hawaiiju stabilizirala in znižala. Florida je prav tako sledila trendu naraščanja brezposelnosti med pandemijo, vendar se je v naslednjih letih stopnja brezposelnosti postopoma zniževala. New York je bil še ena država, ki je leta 2020 doživela dramatično povečanje brezposelnosti zaradi pandemije, vendar je do leta 2022 stopnja brezposelnosti ponovno padla na pred-pandemične ravni. Texas, čeprav ni doživel tako dramatičnih nihanj kot nekatere druge države med pandemijo, je opazil povečanje brezposelnosti leta 2020, ki se je v naslednjih letih postopoma zmanjševalo. Kljub temu pa ni neposredne povezave med statusom legalizacije konoplje in stopnjo brezposelnosti. Tako države z legalizirano kot tudi tiste z nelegalizirano konopljo so izkusile podobne trende brezposelnosti, ki so predvsem odziv na širše ekonomske in družbene spremembe. Pandemija COVID-19 je bila ključni dejavnik, ki je vplival na gospodarstva vseh proučevanih držav, medtem ko legalizacija konoplje ni pokazala neposrednega vpliva na brezposelnost. \n",
    "\n",
    "<div>\n",
    "    <img src=\"images/unemployment_Flordia.png\" style=\"width:45%; height:auto; display:inline; margin:1%;\">\n",
    "    <img src=\"images/unemployment_NY.png\" style=\"width:45%; height:auto; display:inline; margin:1%;\">\n",
    "</div>\n",
    "\n"
   ]
  },
  {
   "cell_type": "markdown",
   "metadata": {},
   "source": [
    "**Splošni trendi pa glede kategorij legalizacije in stopnje brezposelnosti** razkrivajo, da d\n",
    "Države, ki sv ceoti o legalizirano uporabo marihuane, so pogosto opazile zmanjšanje brezposelnosti po legalizaciji. To je mogoče pripisati ustvarjanju novih delovnih mest v industriji kanabisa, vključno s pridelavo, predelavo, prodajo in drugimi povezanimi dejavnostmi. Delovna mesta, ki so se pojavila v tej panogi, so lahko prispevala k zmanjšanju brezposelnosti in povečanju prihodkov posameznih drža \r\n",
    "\r\n",
    "Na drugi strani legalizacija medicinske marihuane ni pokazala znatnega vpliva na splošne trende brezposelnosti. Čeprav je prišlo do nekaterih novih delovnih mest v zdravstvu in povezanih panogah, to ni bilo dovolj, da bi pomembno vplivalo na splošno stopnjo brezposelnosti. Učinki so bili lokalni in omejeni na določene sektorje, kar ni bistveno spremenilo celotne slike brezposelnosti v drž i.\r\n",
    "\r\n",
    "V skupnem smislu je legalizacija mar, predvsem v celoti, rabe, prispevala k ustvarjanju delovnih mest in gospodarski rasti v posameznih državah. Vendar pa so splošni trendi brezposelnosti v ZDA še naprej v največji meri odvisni od širših gospodarskih dejavnikov, kot so recesije, okrevanje gospodarstva in drugi globalni dogodki. Legalizacija marihuane lahko prispeva k lokalni gospodarski dinamiki, vendar sama po sebi ni ključni dejavnik v splošni sliki brezposelnosti v državi.\n",
    "  ![Brezposelnost in legalizacija](images/unemployment_category_all.png)\n",
    "\n",
    "**Če vse skupaj povzamemo** _____________________________________________--."
   ]
  },
  {
   "cell_type": "markdown",
   "metadata": {},
   "source": [
    "  #### 2.2.1 VPLIV STOPNJE LEGALIZACIJE KONOPLJE NA KRIMINAL\n",
    "**Analiza petih zveznih držav** opazimo nekaj trendov. V Floridi je stopnja kriminala med tem obdobjem doživela znaten upad. Kljub rahlemu nihanju je dolgoročni trend zmanjšanja stopnje kriminala opazen že pred legalizacijo medicinske konoplje leta 2016. Čeprav se je zmanjšanje kriminala nadaljevalo tudi po legalizaciji, je pomembno poudariti, da legalizacija ni nujno glavni dejavnik tega trenda, saj so gospodarske razmere, policijske prakse in socialni programi prav tako igrali pomembno vlogo. Podobno je tudi v New Yorku opazen trend zmanjšanja stopnje kriminala med leti 2000 in 2019. Legalizacija konoplje leta 2014 je sovpadala z nadaljnjim zmanjšanjem kriminala, vendar ni bila edini dejavnik tega trenda. Trend zmanjševanja se je začel že pred legalizacijo, kar kaže na vpliv številnih dejavnikov. Tudi tukaj je pomembno poudariti, da je legalizacija konoplje verjetno prispevala k temu trendu, vendar ni bil edini dejavnik. Na drugi strani je Teksas, ki ni legaliziral konoplje med opazovanim obdobjem, prav tako doživel zmanjšanje stopnje kriminala. To kaže, da obstajajo tudi drugi dejavniki, ki vplivajo na stopnjo kriminala, ne le legalizacija konoplje. Havaji, ki so imeli medicinsko legalizirano konopljo, so prav tako doživeli zmanjšanje stopnje kriminala med leti 2000 in 2019. Kljub občasnim nihanjem je bil dolgoročni trend upadanja opazen, vendar tudi tukaj ni mogoče enoznačno pripisati tega trenda legalizaciji konoplje, saj so vplivali tudi drugi dejavniki. V Kaliforniji se je stopnja kriminala med leti 2000 in 2019 spreminjala. Čeprav je bilo nekaj nihanj, je bil na splošno opazen upad. Legalizacija konoplje v letu 2000 ni nujno glavni dejavnik tega trenda, saj so gospodarske razmere, policijske prakse in socialni programi prav tako igrali pomembno vlogo. Skupni sklep je, da so stopnje kriminala v teh državah upadale med leti 2000 in 2019, vendar legalizacija konoplje ni nujno edini ali glavni dejavnik tega trenda. Obstaja kompleksna kombinacija dejavnikov, ki vplivajo na stopnjo kriminala, vključno z gospodarskimi razmerami, policijskimi praksami in socialnimi programi.\n",
    "\r",
    "<div>\n",
    "    <img src=\"images/florida_crime.png\" style=\"width:45%; height:auto; display:inline; margin:1%;\">\n",
    "    <img src=\"images/NY_crime.png\" style=\"width:45%; height:auto; display:inline; margin:1%;\">\n",
    "</div>\n"
   ]
  },
  {
   "cell_type": "markdown",
   "metadata": {},
   "source": [
    "**Splošni trendi glede kategorij legalizacije in stopnje kriminala** pa kažejo zanimive ugotovitve. Države z legalizirano konopljo so leta 2000 imele najvišjo stopnjo kriminala, ki je postopoma naraščala do leta 2002, ko je dosegla vrhunec. Po tem je začela padati, z nekaj nihanj in ponovnim zvišanjem leta 2017, vendar se je do leta 2019 ponovno zmanjšala. Države s popolno legalizacijo so imele podoben trend, le da je najvišjo stopnjo kriminala dosegle nekoliko kasneje, leta 2005, in nato začela padati do leta 2019. Nasprotno pa so države brez legalizacije konoplje imele nižjo stopnjo kriminala leta 2000, ki se je postopoma zviševala do leta 2002, nato pa začela padati. Kljub nekaterim nihanjem je opazen splošni trend padanja kriminala do leta 2019.\n",
    "\n",
    "![Kriminal in legalizacija](images/crime_category_all.png)\n",
    "\n",
    "**Skupinski sklep** analize stopnje kriminala v ZDA med leti 2000 in 2019 ter vpliva legalizacije konoplje poudarja kompleksnost tega fenomena. Čeprav so opazili splošno zmanjševanje kriminala v večini študij, ni bilo jasnega in neposrednega dokaza, da je legalizacija konoplje edini ali glavni dejavnik tega trenda. Trendi stopnje kriminala so bili prepleteni s številnimi drugimi dejavniki, kot so gospodarske razmere, policijske prakse in socialni programi. Legalizacija konoplje je lahko prispevala k zmanjšanju kriminala v nekaterih primerih, vendar je pomembno upoštevati, da je bil trend zmanjševanja prisoten tudi v državah, kjer konoplja ni bila legalizirana."
   ]
  },
  {
   "cell_type": "markdown",
   "metadata": {},
   "source": [
    "## 3. KONČNE UGOTOVITVE"
   ]
  }
 ],
 "metadata": {
  "kernelspec": {
   "display_name": "Python 3 (ipykernel)",
   "language": "python",
   "name": "python3"
  },
  "language_info": {
   "codemirror_mode": {
    "name": "ipython",
    "version": 3
   },
   "file_extension": ".py",
   "mimetype": "text/x-python",
   "name": "python",
   "nbconvert_exporter": "python",
   "pygments_lexer": "ipython3",
   "version": "3.11.5"
  }
 },
 "nbformat": 4,
 "nbformat_minor": 4
}
