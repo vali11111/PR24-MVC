{
 "cells": [
  {
   "cell_type": "markdown",
   "metadata": {},
   "source": [
    "# RAZISKOVANJE DRUŽBENIH DINAMIK V ZDA: VPLIV LEGALIZACIJE KONOPLJE NA STOPNJO SOCIALNE DEPRIVACIJE\n",
    "\n",
    "***Osnovna navodila***\n",
    "*Za zaključen del seminarske naloge je ključna mapa \"podatki\", v kateri so zbrani vsi podatki o brezdomstvu, brezposelnosti, kriminalu, legalizaciji in zveznih državah. Do mape lahko dostopate na tej povezavi: https://github.com/vali11111/PR24-MVC/tree/main/podatki.*\r\n",
    "*\r\n",
    "Vizualizacija, podrobnejša analiza ter opis vseh podatkov se nahajajo v datoteki \"končna_analiza_podatkov\". Do te datoteke lahko dostopate na tej povezavihttp://localhost:8888/notebooks/kon%C4%8Dna_analiza_podatkov.ipynbo*v.*\r\n",
    "\r\n",
    "Ker IPython widgets, ki jih uporabljamo, niso vidni na GitHubu, smo pripravili še mybinder datoteko, ki omogoča pravilno prikazovanje teh widgetov. Do mybinder datoteke lahko dostopate tukaj: ____________________*___.#1## 2. OPIS PROBLEMA IN CILJEV\n",
    "\n",
    "Legalizacija konoplje v ZDA je sprožila široko paleto družbenih razprav in premislekov, pri čemer je eno od ključnih vprašanj, ki izstopajo, vpliv na stopnjo socialne deprivacije v družbi. Ta premik v zakonodaji je s seboj prinesel številne možne učinke, ki segajo preko samega področja uporabe droge. Seminarska naloga si prizadeva osvetliti te vidike in preučiti, kako legalizacija konoplje vpliva na različne kazalnike socialne deprivacije v ZDA.\n",
    "\n",
    "Analiza se osredotoča na tri ključna vprašanja: vpliv na brezdomstvo, kriminal in brezposelnost na kategorijo legalizacije. Brezdomstvo je eden od ključnih indikatorjev socialne deprivacije, saj priča o omejenem dostopu posameznikov do osnovnih potreb, kot so streha nad glavo in stabilen dom. Kriminalnost je tesno povezana z družbeno deprivacijo, saj lahko omejen dostop do sredstev in priložnosti posameznike potisne v nezakonite dejavnosti. Brezposelnost pa je pogost spremljevalec socialne deprivacije, saj lahko omejen dostop do zaposlitvenih priložnosti posameznike izključi iz ekonomskega in socialnega sistema.\n",
    "\n",
    "Pri zbiranju podatkov za analizo se avtorji zanašajo na več virov, ki vključujejo število brezdomcev in brezposlenih po zveznih državah, informacije o legalizaciji konoplje v posameznih državah ter podatke o kriminalu. \n",
    "\n",
    "Cilj raziskave je pridobiti vpogled v kompleksne družbene učinke legalizacije konoplje v ZDA ter njihov povezan vpliv na stopnjo socialne deprivacije v družbi. Razumevanje teh dinamik je ključno za oblikovanje politik in ukrepov, ki bodo prispevali k bolj pravični, enakopravni in vključujoči družbi za vse državlj\n",
    "\n",
    "## 2. ANALIZA PODATKOV\n",
    "### 2.1 MEDSEBOJNI VPLIV DEJAVNIKOV SOCIALNE DEPRIVACIJE (BREZDOMSTVO, BREZPOSELNOST IN KRIMINAL)\n",
    "##### 2.1.1 MEDSEBOJNI VPLIV BREZDOMSTVA IN BREZPOSELNOSTI\n",
    "##### 2.1.2 MEDSEBOJNI VPLIV BREZDOMSTVA IN KRIMINALA\n",
    "##### 2.1.3 MEDSEBOJNI VPLIV BREZPOSELNOSTI IN KRIMINALA\n",
    "\n",
    "### 2.2 VPLIV STOPNJE LEGALIZACIJE KONOPLJE NA DEJAVNIKE SOCIALNE DEPRIVACIJE\n",
    "##### 2.2.1 VPLIV STOPNJE LGALIZACIJE KONOPLJE NA BREZDOMSTVO\n",
    "##### 2.2.1 VPLIV STOPNJE LGALIZACIJE KONOPLJE NA BREZPOSELNOST\n",
    "##### 2.2.1 VPLIV STOPNJE LGALIZACIJE KONOPLJE NA KRIMINAL\n",
    "\n",
    "## 3. KONČNE UGOTOVITVEe.\n",
    "\n",
    "\n",
    "\n",
    "\n",
    "\n",
    "\n",
    "\n"
   ]
  },
  {
   "cell_type": "code",
   "execution_count": null,
   "metadata": {},
   "outputs": [],
   "source": []
  }
 ],
 "metadata": {
  "kernelspec": {
   "display_name": "Python 3 (ipykernel)",
   "language": "python",
   "name": "python3"
  },
  "language_info": {
   "codemirror_mode": {
    "name": "ipython",
    "version": 3
   },
   "file_extension": ".py",
   "mimetype": "text/x-python",
   "name": "python",
   "nbconvert_exporter": "python",
   "pygments_lexer": "ipython3",
   "version": "3.11.5"
  }
 },
 "nbformat": 4,
 "nbformat_minor": 4
}
