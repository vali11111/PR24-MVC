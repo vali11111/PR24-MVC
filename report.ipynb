{
 "cells": [
  {
   "cell_type": "markdown",
   "metadata": {},
   "source": [
    "\n",
    "Raziskovanje družbenih dinamik v ZDA: Vpliv legalizacije konoplje na stopnjo socialne deprivacije\n",
    "\n",
    "1. OSNOVNA NAVODILA ZA PREGLED PODATKOV \n",
    "\n",
    "\n",
    "2. OPIS PROBLEMA IN CILJEV\n",
    "\n",
    "Legalizacija konoplje v ZDA je sprožila široko paleto družbenih razprav in premislekov, pri čemer je eno od ključnih vprašanj, ki izstopajo, vpliv na stopnjo socialne deprivacije v družbi. Ta premik v zakonodaji je s seboj prinesel številne možne učinke, ki segajo preko samega področja uporabe droge. Seminarska naloga si prizadeva osvetliti te vidike in preučiti, kako legalizacija konoplje vpliva na različne kazalnike socialne deprivacije v ZDA.\n",
    "\n",
    "Analiza se osredotoča na tri ključna vprašanja: vpliv na brezdomstvo, kriminal in brezposelnost na kategorijo legalizacije. Brezdomstvo je eden od ključnih indikatorjev socialne deprivacije, saj priča o omejenem dostopu posameznikov do osnovnih potreb, kot so streha nad glavo in stabilen dom. Kriminalnost je tesno povezana z družbeno deprivacijo, saj lahko omejen dostop do sredstev in priložnosti posameznike potisne v nezakonite dejavnosti. Brezposelnost pa je pogost spremljevalec socialne deprivacije, saj lahko omejen dostop do zaposlitvenih priložnosti posameznike izključi iz ekonomskega in socialnega sistema.\n",
    "\n",
    "Pri zbiranju podatkov za analizo se avtorji zanašajo na več virov, ki vključujejo število brezdomcev in brezposlenih po zveznih državah, informacije o legalizaciji konoplje v posameznih državah ter podatke o kriminalu. \n",
    "\n",
    "Cilj raziskave je pridobiti vpogled v kompleksne družbene učinke legalizacije konoplje v ZDA ter njihov povezan vpliv na stopnjo socialne deprivacije v družbi. Razumevanje teh dinamik je ključno za oblikovanje politik in ukrepov, ki bodo prispevali k bolj pravični, enakopravni in vključujoči družbi za vse državljane.\n",
    "\n",
    "\n",
    "\n",
    "\n",
    "\n",
    "\n",
    "\n"
   ]
  }
 ],
 "metadata": {
  "language_info": {
   "name": "python"
  }
 },
 "nbformat": 4,
 "nbformat_minor": 2
}
